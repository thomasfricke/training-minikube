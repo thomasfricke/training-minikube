{
 "cells": [
  {
   "cell_type": "markdown",
   "id": "05f4a00c-d7df-4500-9b9e-cb7d835256df",
   "metadata": {},
   "source": [
    "## Welcome\n",
    "\n",
    "to the training. Just start with downloading the trainings notebooks."
   ]
  },
  {
   "cell_type": "code",
   "execution_count": null,
   "id": "09a22894-e2c4-4f31-9523-f8a585df0276",
   "metadata": {},
   "outputs": [],
   "source": [
    "git clone https://github.com/thomasfricke/training-kubernetes-security"
   ]
  }
 ],
 "metadata": {
  "kernelspec": {
   "display_name": "Bash",
   "language": "bash",
   "name": "bash"
  },
  "language_info": {
   "codemirror_mode": "shell",
   "file_extension": ".sh",
   "mimetype": "text/x-sh",
   "name": "bash"
  }
 },
 "nbformat": 4,
 "nbformat_minor": 5
}
