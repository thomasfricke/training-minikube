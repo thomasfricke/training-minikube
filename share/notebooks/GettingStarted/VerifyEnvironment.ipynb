{
 "cells": [
  {
   "cell_type": "markdown",
   "id": "close-organic",
   "metadata": {},
   "source": [
    "# Check tools\n",
    "\n",
    "These checks shall not fail. Please select \"cell\" and press `<Shift><Enter>` to execute the command."
   ]
  },
  {
   "cell_type": "code",
   "execution_count": 1,
   "id": "satisfactory-paris",
   "metadata": {},
   "outputs": [
    {
     "name": "stdout",
     "output_type": "stream",
     "text": [
      "NAME=\"Ubuntu\"\n",
      "VERSION=\"20.04.1 LTS (Focal Fossa)\"\n",
      "ID=ubuntu\n",
      "ID_LIKE=debian\n",
      "PRETTY_NAME=\"Ubuntu 20.04.1 LTS\"\n",
      "VERSION_ID=\"20.04\"\n",
      "HOME_URL=\"https://www.ubuntu.com/\"\n",
      "SUPPORT_URL=\"https://help.ubuntu.com/\"\n",
      "BUG_REPORT_URL=\"https://bugs.launchpad.net/ubuntu/\"\n",
      "PRIVACY_POLICY_URL=\"https://www.ubuntu.com/legal/terms-and-policies/privacy-policy\"\n",
      "VERSION_CODENAME=focal\n",
      "UBUNTU_CODENAME=focal\n"
     ]
    }
   ],
   "source": [
    "cat /etc/os-release"
   ]
  },
  {
   "cell_type": "code",
   "execution_count": 10,
   "id": "equivalent-chapel",
   "metadata": {},
   "outputs": [
    {
     "name": "stdout",
     "output_type": "stream",
     "text": [
      "bash is installed\n"
     ]
    }
   ],
   "source": [
    "if [ -f /bin/bash ]; then\n",
    "  echo bash is installed\n",
    "else\n",
    "  echo bash is not installed. Run \"apt-get install -y bash\" to fix it.\n",
    "fi"
   ]
  },
  {
   "cell_type": "code",
   "execution_count": 9,
   "id": "completed-jacksonville",
   "metadata": {},
   "outputs": [
    {
     "name": "stdout",
     "output_type": "stream",
     "text": [
      "bash is executable\n"
     ]
    }
   ],
   "source": [
    "if [ -x /bin/bash ]; then\n",
    "  echo bash is executable\n",
    "else\n",
    "  echo bash is not executable. Run \"chmod +x /bin/bash\" to fix it.\n",
    "fi"
   ]
  },
  {
   "cell_type": "code",
   "execution_count": 13,
   "id": "sunset-mouse",
   "metadata": {},
   "outputs": [
    {
     "name": "stdout",
     "output_type": "stream",
     "text": [
      "kubectl is installed\n"
     ]
    }
   ],
   "source": [
    "if [ -f /usr/bin/kubectl ]; then\n",
    "  echo kubectl is installed\n",
    "else\n",
    "  echo kubectl is not installed. Run \"apt-get install -y kubectl\" to fix it.\n",
    "fi"
   ]
  },
  {
   "cell_type": "code",
   "execution_count": 14,
   "id": "french-puzzle",
   "metadata": {},
   "outputs": [
    {
     "name": "stdout",
     "output_type": "stream",
     "text": [
      "kubectl is executable\n"
     ]
    }
   ],
   "source": [
    "if [ -x /usr/bin/kubectl ]; then\n",
    "  echo kubectl is executable\n",
    "else\n",
    "  echo kubectl is not executable. Run \"chmod +x /usr/bin/kubectl\" to fix it.\n",
    "fi"
   ]
  },
  {
   "cell_type": "code",
   "execution_count": 15,
   "id": "religious-peeing",
   "metadata": {},
   "outputs": [
    {
     "name": "stdout",
     "output_type": "stream",
     "text": [
      "jq is installed\n"
     ]
    }
   ],
   "source": [
    "if [ -f /usr/bin/jq ]; then\n",
    "  echo jq is installed\n",
    "else\n",
    "  echo jq is not installed. Run \"apt-get install -y jq\" to fix it.\n",
    "fi"
   ]
  },
  {
   "cell_type": "code",
   "execution_count": 16,
   "id": "active-brother",
   "metadata": {},
   "outputs": [
    {
     "name": "stdout",
     "output_type": "stream",
     "text": [
      "jq is executable\n"
     ]
    }
   ],
   "source": [
    "if [ -x /usr/bin/jq ]; then\n",
    "  echo jq is executable\n",
    "else\n",
    "  echo jq is not executable. Run \"chmod +x /usr/bin/jq\" to fix it.\n",
    "fi"
   ]
  },
  {
   "cell_type": "code",
   "execution_count": 17,
   "id": "introductory-match",
   "metadata": {},
   "outputs": [
    {
     "name": "stdout",
     "output_type": "stream",
     "text": [
      "git is installed\n"
     ]
    }
   ],
   "source": [
    "if [ -f /usr/bin/git ]; then\n",
    "  echo git is installed\n",
    "else\n",
    "  echo git is not installed. Run \"apt-get install -y git\" to fix it.\n",
    "fi"
   ]
  },
  {
   "cell_type": "code",
   "execution_count": 18,
   "id": "caroline-boards",
   "metadata": {},
   "outputs": [
    {
     "name": "stdout",
     "output_type": "stream",
     "text": [
      "git is executable\n"
     ]
    }
   ],
   "source": [
    "if [ -x /usr/bin/git ]; then\n",
    "  echo git is executable\n",
    "else\n",
    "  echo git is not executable. Run \"chmod +x /usr/bin/git\" to fix it.\n",
    "fi"
   ]
  },
  {
   "cell_type": "code",
   "execution_count": 5,
   "id": "certified-vault",
   "metadata": {},
   "outputs": [
    {
     "name": "stdout",
     "output_type": "stream",
     "text": [
      "Client Version: version.Info{Major:\"1\", Minor:\"20\", GitVersion:\"v1.20.2\", GitCommit:\"faecb196815e248d3ecfb03c680a4507229c2a56\", GitTreeState:\"clean\", BuildDate:\"2021-01-13T13:28:09Z\", GoVersion:\"go1.15.5\", Compiler:\"gc\", Platform:\"linux/amd64\"}\n",
      "Server Version: version.Info{Major:\"1\", Minor:\"20\", GitVersion:\"v1.20.0\", GitCommit:\"af46c47ce925f4c4ad5cc8d1fca46c7b77d13b38\", GitTreeState:\"clean\", BuildDate:\"2020-12-08T17:51:19Z\", GoVersion:\"go1.15.5\", Compiler:\"gc\", Platform:\"linux/amd64\"}\n"
     ]
    }
   ],
   "source": [
    "# get client AND server version\n",
    "kubectl version"
   ]
  },
  {
   "cell_type": "code",
   "execution_count": 6,
   "id": "tight-sewing",
   "metadata": {},
   "outputs": [
    {
     "name": "stdout",
     "output_type": "stream",
     "text": [
      "NAME              STATUS   AGE\n",
      "default           Active   62s\n",
      "kube-node-lease   Active   64s\n",
      "kube-public       Active   64s\n",
      "kube-system       Active   64s\n"
     ]
    }
   ],
   "source": [
    "kubectl get namespaces"
   ]
  },
  {
   "cell_type": "code",
   "execution_count": 7,
   "id": "ordinary-congo",
   "metadata": {},
   "outputs": [
    {
     "name": "stdout",
     "output_type": "stream",
     "text": [
      "NAME                               READY   STATUS    RESTARTS   AGE\n",
      "coredns-74ff55c5b-bwjv5            1/1     Running   0          46s\n",
      "etcd-minikube                      0/1     Running   0          55s\n",
      "kube-apiserver-minikube            1/1     Running   0          55s\n",
      "kube-controller-manager-minikube   0/1     Running   0          55s\n",
      "kube-proxy-lfx7s                   1/1     Running   0          46s\n",
      "kube-scheduler-minikube            0/1     Running   0          55s\n",
      "storage-provisioner                1/1     Running   0          60s\n"
     ]
    }
   ],
   "source": [
    "kubectl get pods -n kube-system"
   ]
  },
  {
   "cell_type": "code",
   "execution_count": null,
   "id": "dense-mechanism",
   "metadata": {},
   "outputs": [],
   "source": []
  }
 ],
 "metadata": {
  "kernelspec": {
   "display_name": "Bash",
   "language": "bash",
   "name": "bash"
  },
  "language_info": {
   "codemirror_mode": "shell",
   "file_extension": ".sh",
   "mimetype": "text/x-sh",
   "name": "bash"
  }
 },
 "nbformat": 4,
 "nbformat_minor": 5
}
