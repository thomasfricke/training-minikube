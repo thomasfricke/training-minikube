{
 "cells": [
  {
   "cell_type": "markdown",
   "id": "oriented-baghdad",
   "metadata": {},
   "source": [
    "# Check tools\n",
    "\n",
    "These checks shall not fail. Please select \"cell\" and press `<Shift><Enter>` to execute the command."
   ]
  },
  {
   "cell_type": "code",
   "execution_count": 1,
   "id": "liquid-corner",
   "metadata": {},
   "outputs": [
    {
     "name": "stdout",
     "output_type": "stream",
     "text": [
      "NAME=\"Ubuntu\"\n",
      "VERSION=\"20.04.1 LTS (Focal Fossa)\"\n",
      "ID=ubuntu\n",
      "ID_LIKE=debian\n",
      "PRETTY_NAME=\"Ubuntu 20.04.1 LTS\"\n",
      "VERSION_ID=\"20.04\"\n",
      "HOME_URL=\"https://www.ubuntu.com/\"\n",
      "SUPPORT_URL=\"https://help.ubuntu.com/\"\n",
      "BUG_REPORT_URL=\"https://bugs.launchpad.net/ubuntu/\"\n",
      "PRIVACY_POLICY_URL=\"https://www.ubuntu.com/legal/terms-and-policies/privacy-policy\"\n",
      "VERSION_CODENAME=focal\n",
      "UBUNTU_CODENAME=focal\n"
     ]
    }
   ],
   "source": [
    "cat /etc/os-release"
   ]
  },
  {
   "cell_type": "code",
   "execution_count": 2,
   "id": "pharmaceutical-senegal",
   "metadata": {},
   "outputs": [
    {
     "name": "stdout",
     "output_type": "stream",
     "text": [
      "/usr/bin/bash\n"
     ]
    }
   ],
   "source": [
    "which bash"
   ]
  },
  {
   "cell_type": "code",
   "execution_count": 3,
   "id": "activated-protocol",
   "metadata": {},
   "outputs": [
    {
     "name": "stdout",
     "output_type": "stream",
     "text": [
      "/usr/bin/kubectl\n"
     ]
    }
   ],
   "source": [
    "which kubectl"
   ]
  },
  {
   "cell_type": "code",
   "execution_count": 4,
   "id": "specific-kidney",
   "metadata": {},
   "outputs": [
    {
     "name": "stdout",
     "output_type": "stream",
     "text": [
      "/usr/bin/jq\n"
     ]
    }
   ],
   "source": [
    "which jq"
   ]
  },
  {
   "cell_type": "code",
   "execution_count": 5,
   "id": "pleased-pickup",
   "metadata": {},
   "outputs": [
    {
     "name": "stdout",
     "output_type": "stream",
     "text": [
      "Client Version: version.Info{Major:\"1\", Minor:\"20\", GitVersion:\"v1.20.2\", GitCommit:\"faecb196815e248d3ecfb03c680a4507229c2a56\", GitTreeState:\"clean\", BuildDate:\"2021-01-13T13:28:09Z\", GoVersion:\"go1.15.5\", Compiler:\"gc\", Platform:\"linux/amd64\"}\n",
      "Server Version: version.Info{Major:\"1\", Minor:\"20\", GitVersion:\"v1.20.0\", GitCommit:\"af46c47ce925f4c4ad5cc8d1fca46c7b77d13b38\", GitTreeState:\"clean\", BuildDate:\"2020-12-08T17:51:19Z\", GoVersion:\"go1.15.5\", Compiler:\"gc\", Platform:\"linux/amd64\"}\n"
     ]
    }
   ],
   "source": [
    "# get client AND server version\n",
    "kubectl version"
   ]
  },
  {
   "cell_type": "code",
   "execution_count": 6,
   "id": "honest-interstate",
   "metadata": {},
   "outputs": [
    {
     "name": "stdout",
     "output_type": "stream",
     "text": [
      "NAME              STATUS   AGE\n",
      "default           Active   60m\n",
      "kube-node-lease   Active   60m\n",
      "kube-public       Active   60m\n",
      "kube-system       Active   60m\n"
     ]
    }
   ],
   "source": [
    "kubectl get namespaces"
   ]
  },
  {
   "cell_type": "code",
   "execution_count": 7,
   "id": "willing-viking",
   "metadata": {},
   "outputs": [
    {
     "name": "stdout",
     "output_type": "stream",
     "text": [
      "NAME                               READY   STATUS    RESTARTS   AGE\n",
      "coredns-74ff55c5b-fvxwv            1/1     Running   0          60m\n",
      "etcd-minikube                      1/1     Running   0          60m\n",
      "kube-apiserver-minikube            1/1     Running   0          60m\n",
      "kube-controller-manager-minikube   1/1     Running   0          60m\n",
      "kube-proxy-8sbp4                   1/1     Running   0          60m\n",
      "kube-scheduler-minikube            1/1     Running   0          60m\n",
      "storage-provisioner                1/1     Running   0          60m\n"
     ]
    }
   ],
   "source": [
    "kubectl get pods -n kube-system"
   ]
  }
 ],
 "metadata": {
  "kernelspec": {
   "display_name": "Bash",
   "language": "bash",
   "name": "bash"
  },
  "language_info": {
   "codemirror_mode": "shell",
   "file_extension": ".sh",
   "mimetype": "text/x-sh",
   "name": "bash"
  }
 },
 "nbformat": 4,
 "nbformat_minor": 5
}
