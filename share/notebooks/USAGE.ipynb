{
 "cells": [
  {
   "cell_type": "markdown",
   "id": "incomplete-nepal",
   "metadata": {},
   "source": [
    "# Jupyter Notebooks README\n",
    "\n",
    "## Place new notebooks\n",
    "\n",
    "All notebooks can be found in `share/notebooks`.\n",
    "\n",
    "## Verify your environment\n",
    "\n",
    "Make sure, your environment is setup correctly. [See \"Verify Environment\"](/lab/tree/GettingStarted/VerifyEnvironment.ipynb) for this."
   ]
  },
  {
   "cell_type": "markdown",
   "id": "arbitrary-morgan",
   "metadata": {},
   "source": [
    "## Use Jupyter\n",
    "\n",
    "### Commands\n",
    "\n",
    "* Execute command in Cell: `<Shift><Enter>`\n",
    "* Create new cell BEFORE current cell: `<Esc>a`\n",
    "* Create new cell AFTER current cell: `<Esc>b`\n",
    "* Cut current cell: `<Esc>b`\n",
    "* Paste current cell: `<Esc>v`\n",
    "* Switch from \"edit mode\" to \"command mode\": `<Esc>`\n",
    "* Move up: `<Arrow Up>`\n",
    "* Move Down: `<Arrow Up>`\n",
    "\n",
    "### Tutorial\n",
    "\n",
    "https://jupyter-tutorial.readthedocs.io/_/downloads/de/latest/pdf/\n",
    "\n",
    "### Your first notebook\n",
    "\n",
    "[See \"Hello World\"](/lab/tree/GettingStarted/HelloWorld.ipynb) for this.\n",
    "\n",
    "### Helpful tools available in the docker image via Jupyter\n",
    "\n",
    "* `jq`: Parse JSON-output\n",
    "* `kubectl`: Control kubernetes"
   ]
  },
  {
   "cell_type": "markdown",
   "id": "greater-crazy",
   "metadata": {},
   "source": [
    "# Training\n",
    "\n",
    "[See \"Overview\"](/lab/tree/Overview.ipynb) for this."
   ]
  }
 ],
 "metadata": {
  "kernelspec": {
   "display_name": "Bash",
   "language": "bash",
   "name": "bash"
  },
  "language_info": {
   "codemirror_mode": "shell",
   "file_extension": ".sh",
   "mimetype": "text/x-sh",
   "name": "bash"
  }
 },
 "nbformat": 4,
 "nbformat_minor": 5
}
