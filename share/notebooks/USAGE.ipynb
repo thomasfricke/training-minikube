{
 "cells": [
  {
   "cell_type": "markdown",
   "id": "impossible-compiler",
   "metadata": {},
   "source": [
    "# Jupyter Notebooks README\n",
    "\n",
    "## Place new notebooks\n",
    "\n",
    "All notebooks can be found in `share/notebooks`. There are some sub directories:\n",
    "\n",
    "* `OwnNotebooks`: Your own notebooks. It's not part of the repository. Make sure, that make backups on your own.\n",
    "* `GettingStarted`: Check your environment and make your first steps with Jupyter Notebooks.\n",
    "* `Courses`: Notebooks provided by your training instructor. There might be some more nested directories\n",
    "\n",
    "## Verify your environment\n",
    "\n",
    "Make sure, your environment is setup correctly. [See \"Verify Environment\"](/lab/tree/GettingStarted/VerifyEnvironment.ipynb) for this."
   ]
  },
  {
   "cell_type": "markdown",
   "id": "diagnostic-singles",
   "metadata": {},
   "source": [
    "## Use Jupyter\n",
    "\n",
    "### Commands\n",
    "\n",
    "* Execute command in Cell: `<Shift><Enter>`\n",
    "* Create new cell BEFORE current cell: `<Esc>a`\n",
    "* Create new cell AFTER current cell: `<Esc>b`\n",
    "* Cut current cell: `<Esc>b`\n",
    "* Paste current cell: `<Esc>v`\n",
    "* Switch from \"edit mode\" to \"command mode\": `<Esc>`\n",
    "* Move up: `<Arrow Up>`\n",
    "* Move Down: `<Arrow Up>`\n",
    "\n",
    "### Tutorial\n",
    "\n",
    "https://jupyter-tutorial.readthedocs.io/_/downloads/de/latest/pdf/\n",
    "\n",
    "### Helpful tools available in the docker image via Jupyter\n",
    "\n",
    "* `jq`: Parse JSON-output\n",
    "* `kubectl`: Control kubernetes"
   ]
  },
  {
   "cell_type": "markdown",
   "id": "advanced-permission",
   "metadata": {},
   "source": [
    "# Training\n",
    "\n",
    "[See \"Overview\"](/lab/tree/Overview.ipynb) for this."
   ]
  }
 ],
 "metadata": {
  "kernelspec": {
   "display_name": "Bash",
   "language": "bash",
   "name": "bash"
  },
  "language_info": {
   "codemirror_mode": "shell",
   "file_extension": ".sh",
   "mimetype": "text/x-sh",
   "name": "bash"
  }
 },
 "nbformat": 4,
 "nbformat_minor": 5
}
